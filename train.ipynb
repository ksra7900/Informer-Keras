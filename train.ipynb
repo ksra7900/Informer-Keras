#!/usr/bin/env python3
# -*- coding: utf-8 -*-
"""
Created on Mon Sep 22 18:47:59 2025

@author: amir
"""

