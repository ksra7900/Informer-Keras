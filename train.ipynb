{
 "cells": [
  {
   "cell_type": "code",
   "execution_count": null,
   "id": "a15aea29",
   "metadata": {},
   "outputs": [],
   "source": [
    "import numpy as np\n",
    "import pandas as pd\n",
    "import matplotlib.pyplot as plt\n",
    "from sklearn.preprocessing import MinMaxScaler, PowerTransformer\n",
    "from keras import models\n",
    "from keras import layers\n",
    "import tensorflow as tf\n",
    "from Informer import Informer\n",
    "import warnings\n",
    "warnings.filterwarnings('ignore')"
   ]
  },
  {
   "cell_type": "code",
   "execution_count": null,
   "id": "60d3b6ee",
   "metadata": {},
   "outputs": [],
   "source": [
    "def create_sequences(X, y, date, window_size):\n",
    "    seq_X = []\n",
    "    seq_y = []\n",
    "    seq_date = []\n",
    "    for i in range(len(X) - window_size):\n",
    "        seq_X.append(X[i:i+window_size])\n",
    "        seq_date.append(date[i:i+window_size])\n",
    "        seq_y.append(y[i+window_size])\n",
    "\n",
    "    return np.array(seq_X), np.array(seq_y), np.array(seq_date)"
   ]
  },
  {
   "cell_type": "code",
   "execution_count": null,
   "id": "7acfb3c7",
   "metadata": {},
   "outputs": [],
   "source": [
    "# read dataset\n",
    "df= pd.read_csv('Data/Tetuan City power consumption.csv')"
   ]
  },
  {
   "cell_type": "code",
   "execution_count": null,
   "id": "481c6a9b",
   "metadata": {},
   "outputs": [],
   "source": [
    "# create date dataset\n",
    "df_date= pd.DataFrame()\n",
    "df['DateTime']= pd.to_datetime(df['DateTime'])\n",
    "df_date['minute']= df['DateTime'].dt.minute\n",
    "df_date['hour']= df['DateTime'].dt.hour\n",
    "df_date['weekday']= df['DateTime'].dt.weekday\n",
    "df_date['month']= df['DateTime'].dt.month"
   ]
  },
  {
   "cell_type": "code",
   "execution_count": null,
   "id": "330706a4",
   "metadata": {},
   "outputs": [],
   "source": [
    "# create and prepare data & target \n",
    "df_data= df.drop(['DateTime', 'Zone 1 Power Consumption'], axis=1)\n",
    "df_target= df[['Zone 1 Power Consumption']]\n",
    "\n",
    "# power scaler\n",
    "Power_scaler= PowerTransformer(method='box-cox')\n",
    "df_data['normed_general diffuse flows'] = Power_scaler.fit_transform(df_data[['general diffuse flows']])\n",
    "df_data['normed_diffuse flows'] = Power_scaler.fit_transform(df_data[['diffuse flows']])\n",
    "df_data['normed_humidity'] = np.clip(df_data['Humidity'], a_min=40, a_max=90)\n",
    "df_data = df_data.drop(['Humidity', 'general diffuse flows', 'diffuse flows'], axis=1)\n",
    "\n",
    "# MinMax scaler\n",
    "MinMax_scaler= MinMaxScaler(feature_range=(0, 1))\n",
    "df_data= MinMax_scaler.fit_transform(df_data)\n",
    "df_target= MinMax_scaler.fit_transform(df_target)\n",
    "\n",
    "# sequencing data\n",
    "data, target, date= create_sequences(df_data, df_target, df_date.values, window_size=144)"
   ]
  },
  {
   "cell_type": "code",
   "execution_count": null,
   "id": "59f76cd1",
   "metadata": {},
   "outputs": [],
   "source": [
    "# prepare date\n",
    "date_df = pd.DataFrame(date.reshape(-1, date.shape[-1]),\n",
    "                       columns=['minute', 'hour', 'weekday', 'month'])\n",
    "\n",
    "\n",
    "date_used = date_df[['hour', 'weekday', 'month']].values\n",
    "date_used = date_used.reshape(date.shape[0], date.shape[1], 3)\n",
    "\n",
    "dataset = tf.data.Dataset.from_tensor_slices(((data, date_used), target))\n",
    "\n",
    "# train/val/test split\n",
    "train_size = int(0.7 * len(data))\n",
    "val_size = int(0.15 * len(data))\n",
    "\n",
    "train_ds = dataset.take(train_size).batch(32).shuffle(100)\n",
    "val_ds = dataset.skip(train_size).take(val_size).batch(32)\n",
    "test_ds = dataset.skip(train_size + val_size).batch(32)"
   ]
  },
  {
   "cell_type": "code",
   "execution_count": null,
   "id": "f2ae6c74",
   "metadata": {},
   "outputs": [],
   "source": [
    "# تعریف مدل\n",
    "model = Informer(d_model=64, num_heads=4)  # مقادیر رو بسته به منابع تغییر بده\n",
    "model.compile(optimizer='adam', loss='mse')\n",
    "\n",
    "# آموزش\n",
    "history = model.fit(train_ds,\n",
    "                    validation_data=val_ds,\n",
    "                    epochs=10)\n",
    "\n",
    "# ارزیابی\n",
    "model.evaluate(test_ds)"
   ]
  }
 ],
 "metadata": {
  "kernelspec": {
   "display_name": "base",
   "language": "python",
   "name": "python3"
  },
  "language_info": {
   "codemirror_mode": {
    "name": "ipython",
    "version": 3
   },
   "file_extension": ".py",
   "mimetype": "text/x-python",
   "name": "python",
   "nbconvert_exporter": "python",
   "pygments_lexer": "ipython3",
   "version": "3.12.7"
  }
 },
 "nbformat": 4,
 "nbformat_minor": 5
}
