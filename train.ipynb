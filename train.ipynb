{
 "cells": [
  {
   "cell_type": "code",
   "execution_count": 20,
   "id": "a15aea29",
   "metadata": {},
   "outputs": [],
   "source": [
    "import numpy as np\n",
    "import pandas as pd\n",
    "import matplotlib.pyplot as plt\n",
    "from sklearn.preprocessing import MinMaxScaler, PowerTransformer\n",
    "from keras import models\n",
    "from keras import layers\n",
    "import tensorflow as tf\n",
    "from Informer import Informer\n",
    "import warnings\n",
    "warnings.filterwarnings('ignore')"
   ]
  },
  {
   "cell_type": "code",
   "execution_count": 27,
   "id": "60d3b6ee",
   "metadata": {},
   "outputs": [],
   "source": [
    "def create_sequences(X, y, window_size):\n",
    "    seq_X = []\n",
    "    seq_y = []\n",
    "    for i in range(len(X) - window_size):\n",
    "        seq_X.append(X[i:i+window_size])\n",
    "        seq_y.append(y[i+window_size])\n",
    "\n",
    "    return np.array(seq_X), np.array(seq_y)"
   ]
  },
  {
   "cell_type": "code",
   "execution_count": 7,
   "id": "7acfb3c7",
   "metadata": {},
   "outputs": [],
   "source": [
    "# read dataset\n",
    "df= pd.read_csv('Data/Tetuan City power consumption.csv')"
   ]
  },
  {
   "cell_type": "code",
   "execution_count": 13,
   "id": "1fc8b894",
   "metadata": {},
   "outputs": [
    {
     "data": {
      "text/html": [
       "<div>\n",
       "<style scoped>\n",
       "    .dataframe tbody tr th:only-of-type {\n",
       "        vertical-align: middle;\n",
       "    }\n",
       "\n",
       "    .dataframe tbody tr th {\n",
       "        vertical-align: top;\n",
       "    }\n",
       "\n",
       "    .dataframe thead th {\n",
       "        text-align: right;\n",
       "    }\n",
       "</style>\n",
       "<table border=\"1\" class=\"dataframe\">\n",
       "  <thead>\n",
       "    <tr style=\"text-align: right;\">\n",
       "      <th></th>\n",
       "      <th>DateTime</th>\n",
       "      <th>Temperature</th>\n",
       "      <th>Humidity</th>\n",
       "      <th>Wind Speed</th>\n",
       "      <th>general diffuse flows</th>\n",
       "      <th>diffuse flows</th>\n",
       "      <th>Zone 1 Power Consumption</th>\n",
       "      <th>Zone 2  Power Consumption</th>\n",
       "      <th>Zone 3  Power Consumption</th>\n",
       "    </tr>\n",
       "  </thead>\n",
       "  <tbody>\n",
       "    <tr>\n",
       "      <th>0</th>\n",
       "      <td>1/1/2017 0:00</td>\n",
       "      <td>6.559</td>\n",
       "      <td>73.8</td>\n",
       "      <td>0.083</td>\n",
       "      <td>0.051</td>\n",
       "      <td>0.119</td>\n",
       "      <td>34055.69620</td>\n",
       "      <td>16128.87538</td>\n",
       "      <td>20240.96386</td>\n",
       "    </tr>\n",
       "    <tr>\n",
       "      <th>1</th>\n",
       "      <td>1/1/2017 0:10</td>\n",
       "      <td>6.414</td>\n",
       "      <td>74.5</td>\n",
       "      <td>0.083</td>\n",
       "      <td>0.070</td>\n",
       "      <td>0.085</td>\n",
       "      <td>29814.68354</td>\n",
       "      <td>19375.07599</td>\n",
       "      <td>20131.08434</td>\n",
       "    </tr>\n",
       "    <tr>\n",
       "      <th>2</th>\n",
       "      <td>1/1/2017 0:20</td>\n",
       "      <td>6.313</td>\n",
       "      <td>74.5</td>\n",
       "      <td>0.080</td>\n",
       "      <td>0.062</td>\n",
       "      <td>0.100</td>\n",
       "      <td>29128.10127</td>\n",
       "      <td>19006.68693</td>\n",
       "      <td>19668.43373</td>\n",
       "    </tr>\n",
       "    <tr>\n",
       "      <th>3</th>\n",
       "      <td>1/1/2017 0:30</td>\n",
       "      <td>6.121</td>\n",
       "      <td>75.0</td>\n",
       "      <td>0.083</td>\n",
       "      <td>0.091</td>\n",
       "      <td>0.096</td>\n",
       "      <td>28228.86076</td>\n",
       "      <td>18361.09422</td>\n",
       "      <td>18899.27711</td>\n",
       "    </tr>\n",
       "    <tr>\n",
       "      <th>4</th>\n",
       "      <td>1/1/2017 0:40</td>\n",
       "      <td>5.921</td>\n",
       "      <td>75.7</td>\n",
       "      <td>0.081</td>\n",
       "      <td>0.048</td>\n",
       "      <td>0.085</td>\n",
       "      <td>27335.69620</td>\n",
       "      <td>17872.34043</td>\n",
       "      <td>18442.40964</td>\n",
       "    </tr>\n",
       "  </tbody>\n",
       "</table>\n",
       "</div>"
      ],
      "text/plain": [
       "        DateTime  Temperature  Humidity  Wind Speed  general diffuse flows  \\\n",
       "0  1/1/2017 0:00        6.559      73.8       0.083                  0.051   \n",
       "1  1/1/2017 0:10        6.414      74.5       0.083                  0.070   \n",
       "2  1/1/2017 0:20        6.313      74.5       0.080                  0.062   \n",
       "3  1/1/2017 0:30        6.121      75.0       0.083                  0.091   \n",
       "4  1/1/2017 0:40        5.921      75.7       0.081                  0.048   \n",
       "\n",
       "   diffuse flows  Zone 1 Power Consumption  Zone 2  Power Consumption  \\\n",
       "0          0.119               34055.69620                16128.87538   \n",
       "1          0.085               29814.68354                19375.07599   \n",
       "2          0.100               29128.10127                19006.68693   \n",
       "3          0.096               28228.86076                18361.09422   \n",
       "4          0.085               27335.69620                17872.34043   \n",
       "\n",
       "   Zone 3  Power Consumption  \n",
       "0                20240.96386  \n",
       "1                20131.08434  \n",
       "2                19668.43373  \n",
       "3                18899.27711  \n",
       "4                18442.40964  "
      ]
     },
     "execution_count": 13,
     "metadata": {},
     "output_type": "execute_result"
    }
   ],
   "source": [
    "df.head()"
   ]
  },
  {
   "cell_type": "code",
   "execution_count": null,
   "id": "481c6a9b",
   "metadata": {},
   "outputs": [
    {
     "data": {
      "text/plain": [
       "array([[Timestamp('2017-01-01 00:00:00'), 0, 0, 6, 1],\n",
       "       [Timestamp('2017-01-01 00:10:00'), 10, 0, 6, 1],\n",
       "       [Timestamp('2017-01-01 00:20:00'), 20, 0, 6, 1],\n",
       "       ...,\n",
       "       [Timestamp('2017-12-30 23:30:00'), 30, 23, 5, 12],\n",
       "       [Timestamp('2017-12-30 23:40:00'), 40, 23, 5, 12],\n",
       "       [Timestamp('2017-12-30 23:50:00'), 50, 23, 5, 12]], dtype=object)"
      ]
     },
     "execution_count": 16,
     "metadata": {},
     "output_type": "execute_result"
    }
   ],
   "source": [
    "# create date dataset\n",
    "df_date= df[['DateTime']]\n",
    "df_date['DateTime']= pd.to_datetime(df['DateTime'])\n",
    "df_date['minute']= df_date['DateTime'].dt.minute\n",
    "df_date['hour']= df_date['DateTime'].dt.hour\n",
    "df_date['weekday']= df_date['DateTime'].dt.weekday\n",
    "df_date['month']= df_date['DateTime'].dt.month"
   ]
  },
  {
   "cell_type": "code",
   "execution_count": 33,
   "id": "330706a4",
   "metadata": {},
   "outputs": [],
   "source": [
    "# create & prepare data&target dataset\n",
    "df_data= df.drop(['DateTime', 'Zone 1 Power Consumption'], axis=1)\n",
    "target= df[['Zone 1 Power Consumption']]\n",
    "\n",
    "# power scaler\n",
    "Power_scaler= PowerTransformer(method='box-cox')\n",
    "df_data['normed_general diffuse flows'] = Power_scaler.fit_transform(df_data[['general diffuse flows']])\n",
    "df_data['normed_diffuse flows'] = Power_scaler.fit_transform(df_data[['diffuse flows']])\n",
    "df_data['normed_humidity'] = np.clip(df_data['Humidity'], a_min=40, a_max=90)\n",
    "df_data = df_data.drop(['Humidity', 'general diffuse flows', 'diffuse flows'], axis=1)\n",
    "\n",
    "# MinMax scaler\n",
    "MinMax_scaler= MinMaxScaler(feature_range=(0, 1))\n",
    "df_data= MinMax_scaler.fit_transform(df_data)\n",
    "target= MinMax_scaler.fit_transform(target)\n",
    "\n",
    "# sequencing data\n",
    "data, target= create_sequences(df_data, target, window_size=144)"
   ]
  },
  {
   "cell_type": "code",
   "execution_count": 32,
   "id": "d8844f4b",
   "metadata": {},
   "outputs": [
    {
     "data": {
      "text/plain": [
       "array([[0.39762262],\n",
       "       [0.37414908],\n",
       "       [0.35083415],\n",
       "       ...,\n",
       "       [0.40970272],\n",
       "       [0.3931869 ],\n",
       "       [0.37730631]])"
      ]
     },
     "execution_count": 32,
     "metadata": {},
     "output_type": "execute_result"
    }
   ],
   "source": [
    "target"
   ]
  }
 ],
 "metadata": {
  "kernelspec": {
   "display_name": "base",
   "language": "python",
   "name": "python3"
  },
  "language_info": {
   "codemirror_mode": {
    "name": "ipython",
    "version": 3
   },
   "file_extension": ".py",
   "mimetype": "text/x-python",
   "name": "python",
   "nbconvert_exporter": "python",
   "pygments_lexer": "ipython3",
   "version": "3.12.7"
  }
 },
 "nbformat": 4,
 "nbformat_minor": 5
}
